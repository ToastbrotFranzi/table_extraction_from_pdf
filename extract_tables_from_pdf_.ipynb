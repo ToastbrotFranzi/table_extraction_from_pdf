{
  "nbformat": 4,
  "nbformat_minor": 0,
  "metadata": {
    "colab": {
      "provenance": [],
      "include_colab_link": true
    },
    "kernelspec": {
      "name": "python3",
      "display_name": "Python 3"
    },
    "language_info": {
      "name": "python"
    }
  },
  "cells": [
    {
      "cell_type": "markdown",
      "metadata": {
        "id": "view-in-github",
        "colab_type": "text"
      },
      "source": [
        "<a href=\"https://colab.research.google.com/github/ToastbrotFranzi/table_extraction_from_pdf/blob/main/extract_tables_from_pdf_.ipynb\" target=\"_parent\"><img src=\"https://colab.research.google.com/assets/colab-badge.svg\" alt=\"Open In Colab\"/></a>"
      ]
    },
    {
      "cell_type": "code",
      "execution_count": null,
      "metadata": {
        "colab": {
          "base_uri": "https://localhost:8080/"
        },
        "id": "W2BOSpDrDmsh",
        "outputId": "94150fd6-67c4-4b78-d1f2-6b12d9b4ee67"
      },
      "outputs": [
        {
          "output_type": "stream",
          "name": "stdout",
          "text": [
            "Collecting tabula-py\n",
            "  Downloading tabula_py-2.9.0-py3-none-any.whl (12.0 MB)\n",
            "\u001b[2K     \u001b[90m━━━━━━━━━━━━━━━━━━━━━━━━━━━━━━━━━━━━━━━━\u001b[0m \u001b[32m12.0/12.0 MB\u001b[0m \u001b[31m38.9 MB/s\u001b[0m eta \u001b[36m0:00:00\u001b[0m\n",
            "\u001b[?25hRequirement already satisfied: pandas>=0.25.3 in /usr/local/lib/python3.10/dist-packages (from tabula-py) (1.5.3)\n",
            "Requirement already satisfied: numpy in /usr/local/lib/python3.10/dist-packages (from tabula-py) (1.25.2)\n",
            "Requirement already satisfied: distro in /usr/lib/python3/dist-packages (from tabula-py) (1.7.0)\n",
            "Requirement already satisfied: python-dateutil>=2.8.1 in /usr/local/lib/python3.10/dist-packages (from pandas>=0.25.3->tabula-py) (2.8.2)\n",
            "Requirement already satisfied: pytz>=2020.1 in /usr/local/lib/python3.10/dist-packages (from pandas>=0.25.3->tabula-py) (2023.4)\n",
            "Requirement already satisfied: six>=1.5 in /usr/local/lib/python3.10/dist-packages (from python-dateutil>=2.8.1->pandas>=0.25.3->tabula-py) (1.16.0)\n",
            "Installing collected packages: tabula-py\n",
            "Successfully installed tabula-py-2.9.0\n",
            "Collecting JPype1\n",
            "  Downloading JPype1-1.5.0-cp310-cp310-manylinux_2_17_x86_64.manylinux2014_x86_64.whl (488 kB)\n",
            "\u001b[2K     \u001b[90m━━━━━━━━━━━━━━━━━━━━━━━━━━━━━━━━━━━━━━━━\u001b[0m \u001b[32m488.6/488.6 kB\u001b[0m \u001b[31m3.9 MB/s\u001b[0m eta \u001b[36m0:00:00\u001b[0m\n",
            "\u001b[?25hRequirement already satisfied: packaging in /usr/local/lib/python3.10/dist-packages (from JPype1) (23.2)\n",
            "Installing collected packages: JPype1\n",
            "Successfully installed JPype1-1.5.0\n"
          ]
        }
      ],
      "source": [
        "!pip install tabula-py\n",
        "!pip install JPype1"
      ]
    },
    {
      "cell_type": "code",
      "source": [
        "import tabula\n",
        "import pandas as pd\n",
        "import numpy as np\n",
        "\n",
        "pd.options.mode.copy_on_write = True"
      ],
      "metadata": {
        "id": "qfgA0zMhEX6T"
      },
      "execution_count": null,
      "outputs": []
    },
    {
      "cell_type": "code",
      "source": [
        "filepath = \"https://www.kba.de/SharedDocs/Downloads/DE/SV/sv222_m1_kraft_pdf.pdf?__blob=publicationFile&v=12\""
      ],
      "metadata": {
        "id": "wPps0Jf2D4Aa"
      },
      "execution_count": null,
      "outputs": []
    },
    {
      "cell_type": "code",
      "source": [
        "# Laden der PDF-Datei\n",
        "df = tabula.read_pdf(filepath, pages=\"18-1105\")"
      ],
      "metadata": {
        "id": "lZL9bipoDq_U"
      },
      "execution_count": null,
      "outputs": []
    },
    {
      "cell_type": "code",
      "source": [
        "len(df)"
      ],
      "metadata": {
        "colab": {
          "base_uri": "https://localhost:8080/"
        },
        "id": "0JICK1pkVTVm",
        "outputId": "2586e5da-06f8-4a2b-a3ce-2bb25d0a9378"
      },
      "execution_count": null,
      "outputs": [
        {
          "output_type": "execute_result",
          "data": {
            "text/plain": [
              "1909"
            ]
          },
          "metadata": {},
          "execution_count": 47
        }
      ]
    },
    {
      "cell_type": "code",
      "source": [
        "count_7_14 = 0\n",
        "count_73_18 = 0\n",
        "count_73_19 = 0\n",
        "count_80_15 = 0\n",
        "count_else = 0\n",
        "new_type=[(7, 14), (73, 18), (73, 19), (80, 15)]\n",
        "all_other_types = []\n",
        "\n",
        "for d in df:\n",
        "\n",
        "  if d.shape == (7, 14):\n",
        "    count_7_14 += 1\n",
        "  elif d.shape == (73, 18):\n",
        "    count_73_18 += 1\n",
        "  elif d.shape == (73, 19):\n",
        "    count_73_19 += 1\n",
        "  elif d.shape == (80, 15):\n",
        "    count_80_15 += 1\n",
        "  else:\n",
        "    count_else +=1\n",
        "    all_other_types.append(d.shape)\n",
        "    if d.shape not in new_type:\n",
        "      new_type.append(d.shape)\n",
        "\n",
        "\n",
        "print(\"count_7_14: \", count_7_14)\n",
        "print(\"count_73_18: \", count_73_18)\n",
        "print(\"count_73_19: \", count_73_19)\n",
        "print(\"count_80_15: \", count_80_15)\n",
        "print(\"count_else: \", count_else)\n",
        "print(\"Catched different types of shape: \", new_type)\n",
        "\n",
        "already_counted = []\n",
        "for item in all_other_types:\n",
        "  if item not in already_counted:\n",
        "    print(\"\")\n",
        "    print(f\"Occurency of {item}:\")\n",
        "    print(all_other_types.count(item))\n",
        "    already_counted.append(item)"
      ],
      "metadata": {
        "colab": {
          "base_uri": "https://localhost:8080/"
        },
        "id": "C2EsUPAipSzY",
        "outputId": "10928f1c-d912-465f-c91f-6e557a0a4d35"
      },
      "execution_count": null,
      "outputs": [
        {
          "output_type": "stream",
          "name": "stdout",
          "text": [
            "count_7_14:  821\n",
            "count_73_18:  258\n",
            "count_73_19:  443\n",
            "count_80_15:  172\n",
            "count_else:  215\n",
            "Catched different types of shape:  [(7, 14), (73, 18), (73, 19), (80, 15), (69, 10), (80, 14), (73, 17), (72, 17), (80, 16), (72, 19), (73, 20), (71, 18), (72, 18), (70, 19), (72, 20), (67, 20), (70, 18), (69, 19), (71, 19), (68, 19), (64, 17), (79, 15), (71, 17), (55, 18)]\n",
            "\n",
            "Occurency of (69, 10):\n",
            "1\n",
            "\n",
            "Occurency of (80, 14):\n",
            "67\n",
            "\n",
            "Occurency of (73, 17):\n",
            "17\n",
            "\n",
            "Occurency of (72, 17):\n",
            "3\n",
            "\n",
            "Occurency of (80, 16):\n",
            "24\n",
            "\n",
            "Occurency of (72, 19):\n",
            "25\n",
            "\n",
            "Occurency of (73, 20):\n",
            "33\n",
            "\n",
            "Occurency of (71, 18):\n",
            "4\n",
            "\n",
            "Occurency of (72, 18):\n",
            "19\n",
            "\n",
            "Occurency of (70, 19):\n",
            "3\n",
            "\n",
            "Occurency of (72, 20):\n",
            "1\n",
            "\n",
            "Occurency of (67, 20):\n",
            "1\n",
            "\n",
            "Occurency of (70, 18):\n",
            "3\n",
            "\n",
            "Occurency of (69, 19):\n",
            "3\n",
            "\n",
            "Occurency of (71, 19):\n",
            "6\n",
            "\n",
            "Occurency of (68, 19):\n",
            "1\n",
            "\n",
            "Occurency of (64, 17):\n",
            "1\n",
            "\n",
            "Occurency of (79, 15):\n",
            "1\n",
            "\n",
            "Occurency of (71, 17):\n",
            "1\n",
            "\n",
            "Occurency of (55, 18):\n",
            "1\n"
          ]
        }
      ]
    },
    {
      "cell_type": "code",
      "source": [
        "cols_names = [\"HSN\", \"Fahrzeughersteller\", \"TSN\", \"Fahrzeugklasse\",\n",
        "              \"Handelsname\", \"Kraftfahrstoffcode\", \"Leistung kW\", \"Emissionscode\",\n",
        "              \"CO2 g/km 8.1\", \"CO2 g/km 8.2\", \"CO2 g/km 8.3\", \"CO2 g/km 8.4\",\n",
        "              \"Verbrauch l, m3/100km 8.5\", \"Verbrauch l, m3/100km 8.6\",\n",
        "              \"Verbrauch l, m3/100km 8.7\", \"Verbrauch l, m3/100km 8.8\",\n",
        "              \"Elektrischer Energieverbrauch kombiniert Wh/km\"]"
      ],
      "metadata": {
        "id": "a7wVD4qQ7TlT"
      },
      "execution_count": null,
      "outputs": []
    },
    {
      "cell_type": "code",
      "source": [
        "def drop_na_cols(d):\n",
        "  for col in d.columns[:10]:\n",
        "    if d.shape[0] == d[col].isna().sum():\n",
        "      d.drop(columns=col, inplace=True)\n",
        "  for col in d.columns[2:]:\n",
        "    if d.shape[0] == d[col].isna().sum():\n",
        "      d.drop(columns=col, inplace=True)\n",
        "  return d"
      ],
      "metadata": {
        "id": "GrgXqaMGGw69"
      },
      "execution_count": null,
      "outputs": []
    },
    {
      "cell_type": "code",
      "source": [
        "# Function to add dummy cols\n",
        "\n",
        "def add_dummy_cols(df, n):\n",
        "  for i in range(0,n):\n",
        "      df[f\"dummy_{i}\"] = np.nan\n",
        "  #print(df.columns)\n",
        "  return df"
      ],
      "metadata": {
        "id": "M4Klo9P3-Ntt"
      },
      "execution_count": null,
      "outputs": []
    },
    {
      "cell_type": "code",
      "source": [
        "dfs_clean = []\n",
        "\n",
        "def clean_dfs(dfs):\n",
        "  # iterate through dfs\n",
        "  for d in df:\n",
        "\n",
        "    # check if shape is (7,14)\n",
        "    if d.shape != (7, 14) and d.shape != (7, 17):\n",
        "      # Check for number of rows\n",
        "      if d.shape[0] > 73:\n",
        "        if d.shape[0] == 80:\n",
        "          d = d.iloc[7:]\n",
        "        elif d.shape[0] == 79:\n",
        "          d = d.iloc[6:]\n",
        "      elif d.shape[0] == 7:\n",
        "        print(d.shape, \"Pre-table wa not removed\")\n",
        "\n",
        "      # Check number of cols\n",
        "      if d.shape[1] != 10:\n",
        "        if d.shape[1] == 14:\n",
        "          d = add_dummy_cols(d, 3)\n",
        "        elif d.shape[1] == 15:\n",
        "          d = drop_na_cols(d)\n",
        "          if d.shape[1] < 17:\n",
        "            diff = 17 - d.shape[1]\n",
        "            d = add_dummy_cols(d, diff)\n",
        "        elif d.shape[1] == 16:\n",
        "          d = drop_na_cols(d)\n",
        "          if d.shape[1] < 17:\n",
        "            diff = 17 - d.shape[1]\n",
        "            d = add_dummy_cols(d, diff)\n",
        "        elif d.shape[1] == 18:\n",
        "           d = drop_na_cols(d)\n",
        "           if d.shape[1] < 17:\n",
        "            diff = 17 - d.shape[1]\n",
        "            d = add_dummy_cols(d, diff)\n",
        "        elif d.shape[1] == 19:\n",
        "           d = drop_na_cols(d)\n",
        "           if d.shape[1] < 17:\n",
        "            diff = 17 - d.shape[1]\n",
        "            d = add_dummy_cols(d, diff)\n",
        "        elif d.shape[1] == 20:\n",
        "          d = drop_na_cols(d)\n",
        "          if d.shape[1] < 17:\n",
        "            diff = 17 - d.shape[1]\n",
        "            d = add_dummy_cols(d, diff)\n",
        "\n",
        "        #  rename rows\n",
        "        if len(d.columns) == 17:\n",
        "            d.columns = cols_names\n",
        "        else:\n",
        "            print(f\"number of cols is {len(d.columns)}.\")\n",
        "            print(d.columns)\n",
        "\n",
        "        if d.shape[1] == 10:\n",
        "        # add index columns (give them the correct names)\n",
        "          d = (d.T.reset_index().T.reset_index(drop=True)\n",
        "            .set_axis(['HSN', 'Fahrzeughersteller', 'TSN', 'Fahrzeugklasse', 'Handelsname',\n",
        "            'Kraftfahrstoffcode', 'Leistung kW', 'Emissionscode', 'CO2 g/km 8.1', 'Verbrauch l, m3/100km 8.5'],\n",
        "                      axis=1))\n",
        "\n",
        "          # add dummy column with correct names\n",
        "          cols_left = ['CO2 g/km 8.2', 'CO2 g/km 8.3', 'CO2 g/km 8.4','Verbrauch l, m3/100km 8.6',\n",
        "            'Verbrauch l, m3/100km 8.7', 'Verbrauch l, m3/100km 8.8',\n",
        "            'Elektrischer Energieverbrauch kombiniert Wh/km']\n",
        "\n",
        "          for col in cols_left:\n",
        "            d[col] = np.nan\n",
        "\n",
        "        # append df to dfs_clean\n",
        "        dfs_clean.append(d)"
      ],
      "metadata": {
        "id": "i4QLioVC-N0f"
      },
      "execution_count": null,
      "outputs": []
    },
    {
      "cell_type": "code",
      "source": [
        "clean_dfs(df)"
      ],
      "metadata": {
        "id": "5GUkjFYsC4dd"
      },
      "execution_count": null,
      "outputs": []
    },
    {
      "cell_type": "code",
      "source": [
        "len(dfs_clean)"
      ],
      "metadata": {
        "colab": {
          "base_uri": "https://localhost:8080/"
        },
        "id": "pPQ_jZLACTow",
        "outputId": "e591c095-432c-411b-e090-b5213d24b20d"
      },
      "execution_count": null,
      "outputs": [
        {
          "output_type": "execute_result",
          "data": {
            "text/plain": [
              "1086"
            ]
          },
          "metadata": {},
          "execution_count": 56
        }
      ]
    },
    {
      "cell_type": "code",
      "source": [
        "df_combined = pd.concat(dfs_clean)\n",
        "df_combined.shape"
      ],
      "metadata": {
        "colab": {
          "base_uri": "https://localhost:8080/"
        },
        "id": "MsrPSYAt-N53",
        "outputId": "964f3578-2958-49be-812b-e53f04be7f58"
      },
      "execution_count": null,
      "outputs": [
        {
          "output_type": "execute_result",
          "data": {
            "text/plain": [
              "(79140, 17)"
            ]
          },
          "metadata": {},
          "execution_count": 57
        }
      ]
    },
    {
      "cell_type": "code",
      "source": [
        "df_combined.columns"
      ],
      "metadata": {
        "colab": {
          "base_uri": "https://localhost:8080/"
        },
        "id": "6HMVslpi-N8X",
        "outputId": "6c1395d6-8334-447f-967f-a68d708229f9"
      },
      "execution_count": null,
      "outputs": [
        {
          "output_type": "execute_result",
          "data": {
            "text/plain": [
              "Index(['HSN', 'Fahrzeughersteller', 'TSN', 'Fahrzeugklasse', 'Handelsname',\n",
              "       'Kraftfahrstoffcode', 'Leistung kW', 'Emissionscode', 'CO2 g/km 8.1',\n",
              "       'CO2 g/km 8.2', 'CO2 g/km 8.3', 'CO2 g/km 8.4',\n",
              "       'Verbrauch l, m3/100km 8.5', 'Verbrauch l, m3/100km 8.6',\n",
              "       'Verbrauch l, m3/100km 8.7', 'Verbrauch l, m3/100km 8.8',\n",
              "       'Elektrischer Energieverbrauch kombiniert Wh/km'],\n",
              "      dtype='object')"
            ]
          },
          "metadata": {},
          "execution_count": 58
        }
      ]
    },
    {
      "cell_type": "code",
      "source": [
        "df_combined.tail()"
      ],
      "metadata": {
        "colab": {
          "base_uri": "https://localhost:8080/",
          "height": 241
        },
        "id": "WW00fjQJV_ge",
        "outputId": "4408041b-b7bb-47d9-b7e9-140fe654b3bb"
      },
      "execution_count": null,
      "outputs": [
        {
          "output_type": "execute_result",
          "data": {
            "text/plain": [
              "     HSN Fahrzeughersteller  TSN Fahrzeugklasse     Handelsname  \\\n",
              "50  9891              SMART  AAM             M1     forfour 1.5   \n",
              "51  9891              SMART  AAM             M1     forfour 1.5   \n",
              "52  9891              SMART  AAN             M1     forfour 1.0   \n",
              "53  9891              SMART  AAN             M1     forfour 1.0   \n",
              "54  9891              SMART  AAO             M1  forfour BRABUS   \n",
              "\n",
              "   Kraftfahrstoffcode Leistung kW Emissionscode CO2 g/km 8.1 CO2 g/km 8.2  \\\n",
              "50                  1          90          0462          151          6.4   \n",
              "51                  1          90          0462          149          6.3   \n",
              "52                  1          47          0462          128          5.4   \n",
              "53                  1          47          0462          133          5.6   \n",
              "54                  1         130          0462          159          6.8   \n",
              "\n",
              "   CO2 g/km 8.3 CO2 g/km 8.4 Verbrauch l, m3/100km 8.5  \\\n",
              "50          NaN          NaN                       NaN   \n",
              "51          NaN          NaN                       NaN   \n",
              "52          NaN          NaN                       NaN   \n",
              "53          NaN          NaN                       NaN   \n",
              "54          NaN          NaN                       NaN   \n",
              "\n",
              "   Verbrauch l, m3/100km 8.6 Verbrauch l, m3/100km 8.7  \\\n",
              "50                       NaN                       NaN   \n",
              "51                       NaN                       NaN   \n",
              "52                       NaN                       NaN   \n",
              "53                       NaN                       NaN   \n",
              "54                       NaN                       NaN   \n",
              "\n",
              "    Verbrauch l, m3/100km 8.8  Elektrischer Energieverbrauch kombiniert Wh/km  \n",
              "50                        NaN                                             NaN  \n",
              "51                        NaN                                             NaN  \n",
              "52                        NaN                                             NaN  \n",
              "53                        NaN                                             NaN  \n",
              "54                        NaN                                             NaN  "
            ],
            "text/html": [
              "\n",
              "  <div id=\"df-77f94bfb-5443-48a1-bd01-139d7f24b855\" class=\"colab-df-container\">\n",
              "    <div>\n",
              "<style scoped>\n",
              "    .dataframe tbody tr th:only-of-type {\n",
              "        vertical-align: middle;\n",
              "    }\n",
              "\n",
              "    .dataframe tbody tr th {\n",
              "        vertical-align: top;\n",
              "    }\n",
              "\n",
              "    .dataframe thead th {\n",
              "        text-align: right;\n",
              "    }\n",
              "</style>\n",
              "<table border=\"1\" class=\"dataframe\">\n",
              "  <thead>\n",
              "    <tr style=\"text-align: right;\">\n",
              "      <th></th>\n",
              "      <th>HSN</th>\n",
              "      <th>Fahrzeughersteller</th>\n",
              "      <th>TSN</th>\n",
              "      <th>Fahrzeugklasse</th>\n",
              "      <th>Handelsname</th>\n",
              "      <th>Kraftfahrstoffcode</th>\n",
              "      <th>Leistung kW</th>\n",
              "      <th>Emissionscode</th>\n",
              "      <th>CO2 g/km 8.1</th>\n",
              "      <th>CO2 g/km 8.2</th>\n",
              "      <th>CO2 g/km 8.3</th>\n",
              "      <th>CO2 g/km 8.4</th>\n",
              "      <th>Verbrauch l, m3/100km 8.5</th>\n",
              "      <th>Verbrauch l, m3/100km 8.6</th>\n",
              "      <th>Verbrauch l, m3/100km 8.7</th>\n",
              "      <th>Verbrauch l, m3/100km 8.8</th>\n",
              "      <th>Elektrischer Energieverbrauch kombiniert Wh/km</th>\n",
              "    </tr>\n",
              "  </thead>\n",
              "  <tbody>\n",
              "    <tr>\n",
              "      <th>50</th>\n",
              "      <td>9891</td>\n",
              "      <td>SMART</td>\n",
              "      <td>AAM</td>\n",
              "      <td>M1</td>\n",
              "      <td>forfour 1.5</td>\n",
              "      <td>1</td>\n",
              "      <td>90</td>\n",
              "      <td>0462</td>\n",
              "      <td>151</td>\n",
              "      <td>6.4</td>\n",
              "      <td>NaN</td>\n",
              "      <td>NaN</td>\n",
              "      <td>NaN</td>\n",
              "      <td>NaN</td>\n",
              "      <td>NaN</td>\n",
              "      <td>NaN</td>\n",
              "      <td>NaN</td>\n",
              "    </tr>\n",
              "    <tr>\n",
              "      <th>51</th>\n",
              "      <td>9891</td>\n",
              "      <td>SMART</td>\n",
              "      <td>AAM</td>\n",
              "      <td>M1</td>\n",
              "      <td>forfour 1.5</td>\n",
              "      <td>1</td>\n",
              "      <td>90</td>\n",
              "      <td>0462</td>\n",
              "      <td>149</td>\n",
              "      <td>6.3</td>\n",
              "      <td>NaN</td>\n",
              "      <td>NaN</td>\n",
              "      <td>NaN</td>\n",
              "      <td>NaN</td>\n",
              "      <td>NaN</td>\n",
              "      <td>NaN</td>\n",
              "      <td>NaN</td>\n",
              "    </tr>\n",
              "    <tr>\n",
              "      <th>52</th>\n",
              "      <td>9891</td>\n",
              "      <td>SMART</td>\n",
              "      <td>AAN</td>\n",
              "      <td>M1</td>\n",
              "      <td>forfour 1.0</td>\n",
              "      <td>1</td>\n",
              "      <td>47</td>\n",
              "      <td>0462</td>\n",
              "      <td>128</td>\n",
              "      <td>5.4</td>\n",
              "      <td>NaN</td>\n",
              "      <td>NaN</td>\n",
              "      <td>NaN</td>\n",
              "      <td>NaN</td>\n",
              "      <td>NaN</td>\n",
              "      <td>NaN</td>\n",
              "      <td>NaN</td>\n",
              "    </tr>\n",
              "    <tr>\n",
              "      <th>53</th>\n",
              "      <td>9891</td>\n",
              "      <td>SMART</td>\n",
              "      <td>AAN</td>\n",
              "      <td>M1</td>\n",
              "      <td>forfour 1.0</td>\n",
              "      <td>1</td>\n",
              "      <td>47</td>\n",
              "      <td>0462</td>\n",
              "      <td>133</td>\n",
              "      <td>5.6</td>\n",
              "      <td>NaN</td>\n",
              "      <td>NaN</td>\n",
              "      <td>NaN</td>\n",
              "      <td>NaN</td>\n",
              "      <td>NaN</td>\n",
              "      <td>NaN</td>\n",
              "      <td>NaN</td>\n",
              "    </tr>\n",
              "    <tr>\n",
              "      <th>54</th>\n",
              "      <td>9891</td>\n",
              "      <td>SMART</td>\n",
              "      <td>AAO</td>\n",
              "      <td>M1</td>\n",
              "      <td>forfour BRABUS</td>\n",
              "      <td>1</td>\n",
              "      <td>130</td>\n",
              "      <td>0462</td>\n",
              "      <td>159</td>\n",
              "      <td>6.8</td>\n",
              "      <td>NaN</td>\n",
              "      <td>NaN</td>\n",
              "      <td>NaN</td>\n",
              "      <td>NaN</td>\n",
              "      <td>NaN</td>\n",
              "      <td>NaN</td>\n",
              "      <td>NaN</td>\n",
              "    </tr>\n",
              "  </tbody>\n",
              "</table>\n",
              "</div>\n",
              "    <div class=\"colab-df-buttons\">\n",
              "\n",
              "  <div class=\"colab-df-container\">\n",
              "    <button class=\"colab-df-convert\" onclick=\"convertToInteractive('df-77f94bfb-5443-48a1-bd01-139d7f24b855')\"\n",
              "            title=\"Convert this dataframe to an interactive table.\"\n",
              "            style=\"display:none;\">\n",
              "\n",
              "  <svg xmlns=\"http://www.w3.org/2000/svg\" height=\"24px\" viewBox=\"0 -960 960 960\">\n",
              "    <path d=\"M120-120v-720h720v720H120Zm60-500h600v-160H180v160Zm220 220h160v-160H400v160Zm0 220h160v-160H400v160ZM180-400h160v-160H180v160Zm440 0h160v-160H620v160ZM180-180h160v-160H180v160Zm440 0h160v-160H620v160Z\"/>\n",
              "  </svg>\n",
              "    </button>\n",
              "\n",
              "  <style>\n",
              "    .colab-df-container {\n",
              "      display:flex;\n",
              "      gap: 12px;\n",
              "    }\n",
              "\n",
              "    .colab-df-convert {\n",
              "      background-color: #E8F0FE;\n",
              "      border: none;\n",
              "      border-radius: 50%;\n",
              "      cursor: pointer;\n",
              "      display: none;\n",
              "      fill: #1967D2;\n",
              "      height: 32px;\n",
              "      padding: 0 0 0 0;\n",
              "      width: 32px;\n",
              "    }\n",
              "\n",
              "    .colab-df-convert:hover {\n",
              "      background-color: #E2EBFA;\n",
              "      box-shadow: 0px 1px 2px rgba(60, 64, 67, 0.3), 0px 1px 3px 1px rgba(60, 64, 67, 0.15);\n",
              "      fill: #174EA6;\n",
              "    }\n",
              "\n",
              "    .colab-df-buttons div {\n",
              "      margin-bottom: 4px;\n",
              "    }\n",
              "\n",
              "    [theme=dark] .colab-df-convert {\n",
              "      background-color: #3B4455;\n",
              "      fill: #D2E3FC;\n",
              "    }\n",
              "\n",
              "    [theme=dark] .colab-df-convert:hover {\n",
              "      background-color: #434B5C;\n",
              "      box-shadow: 0px 1px 3px 1px rgba(0, 0, 0, 0.15);\n",
              "      filter: drop-shadow(0px 1px 2px rgba(0, 0, 0, 0.3));\n",
              "      fill: #FFFFFF;\n",
              "    }\n",
              "  </style>\n",
              "\n",
              "    <script>\n",
              "      const buttonEl =\n",
              "        document.querySelector('#df-77f94bfb-5443-48a1-bd01-139d7f24b855 button.colab-df-convert');\n",
              "      buttonEl.style.display =\n",
              "        google.colab.kernel.accessAllowed ? 'block' : 'none';\n",
              "\n",
              "      async function convertToInteractive(key) {\n",
              "        const element = document.querySelector('#df-77f94bfb-5443-48a1-bd01-139d7f24b855');\n",
              "        const dataTable =\n",
              "          await google.colab.kernel.invokeFunction('convertToInteractive',\n",
              "                                                    [key], {});\n",
              "        if (!dataTable) return;\n",
              "\n",
              "        const docLinkHtml = 'Like what you see? Visit the ' +\n",
              "          '<a target=\"_blank\" href=https://colab.research.google.com/notebooks/data_table.ipynb>data table notebook</a>'\n",
              "          + ' to learn more about interactive tables.';\n",
              "        element.innerHTML = '';\n",
              "        dataTable['output_type'] = 'display_data';\n",
              "        await google.colab.output.renderOutput(dataTable, element);\n",
              "        const docLink = document.createElement('div');\n",
              "        docLink.innerHTML = docLinkHtml;\n",
              "        element.appendChild(docLink);\n",
              "      }\n",
              "    </script>\n",
              "  </div>\n",
              "\n",
              "\n",
              "<div id=\"df-cbb4d4d0-be31-4657-aceb-73c656d13bd2\">\n",
              "  <button class=\"colab-df-quickchart\" onclick=\"quickchart('df-cbb4d4d0-be31-4657-aceb-73c656d13bd2')\"\n",
              "            title=\"Suggest charts\"\n",
              "            style=\"display:none;\">\n",
              "\n",
              "<svg xmlns=\"http://www.w3.org/2000/svg\" height=\"24px\"viewBox=\"0 0 24 24\"\n",
              "     width=\"24px\">\n",
              "    <g>\n",
              "        <path d=\"M19 3H5c-1.1 0-2 .9-2 2v14c0 1.1.9 2 2 2h14c1.1 0 2-.9 2-2V5c0-1.1-.9-2-2-2zM9 17H7v-7h2v7zm4 0h-2V7h2v10zm4 0h-2v-4h2v4z\"/>\n",
              "    </g>\n",
              "</svg>\n",
              "  </button>\n",
              "\n",
              "<style>\n",
              "  .colab-df-quickchart {\n",
              "      --bg-color: #E8F0FE;\n",
              "      --fill-color: #1967D2;\n",
              "      --hover-bg-color: #E2EBFA;\n",
              "      --hover-fill-color: #174EA6;\n",
              "      --disabled-fill-color: #AAA;\n",
              "      --disabled-bg-color: #DDD;\n",
              "  }\n",
              "\n",
              "  [theme=dark] .colab-df-quickchart {\n",
              "      --bg-color: #3B4455;\n",
              "      --fill-color: #D2E3FC;\n",
              "      --hover-bg-color: #434B5C;\n",
              "      --hover-fill-color: #FFFFFF;\n",
              "      --disabled-bg-color: #3B4455;\n",
              "      --disabled-fill-color: #666;\n",
              "  }\n",
              "\n",
              "  .colab-df-quickchart {\n",
              "    background-color: var(--bg-color);\n",
              "    border: none;\n",
              "    border-radius: 50%;\n",
              "    cursor: pointer;\n",
              "    display: none;\n",
              "    fill: var(--fill-color);\n",
              "    height: 32px;\n",
              "    padding: 0;\n",
              "    width: 32px;\n",
              "  }\n",
              "\n",
              "  .colab-df-quickchart:hover {\n",
              "    background-color: var(--hover-bg-color);\n",
              "    box-shadow: 0 1px 2px rgba(60, 64, 67, 0.3), 0 1px 3px 1px rgba(60, 64, 67, 0.15);\n",
              "    fill: var(--button-hover-fill-color);\n",
              "  }\n",
              "\n",
              "  .colab-df-quickchart-complete:disabled,\n",
              "  .colab-df-quickchart-complete:disabled:hover {\n",
              "    background-color: var(--disabled-bg-color);\n",
              "    fill: var(--disabled-fill-color);\n",
              "    box-shadow: none;\n",
              "  }\n",
              "\n",
              "  .colab-df-spinner {\n",
              "    border: 2px solid var(--fill-color);\n",
              "    border-color: transparent;\n",
              "    border-bottom-color: var(--fill-color);\n",
              "    animation:\n",
              "      spin 1s steps(1) infinite;\n",
              "  }\n",
              "\n",
              "  @keyframes spin {\n",
              "    0% {\n",
              "      border-color: transparent;\n",
              "      border-bottom-color: var(--fill-color);\n",
              "      border-left-color: var(--fill-color);\n",
              "    }\n",
              "    20% {\n",
              "      border-color: transparent;\n",
              "      border-left-color: var(--fill-color);\n",
              "      border-top-color: var(--fill-color);\n",
              "    }\n",
              "    30% {\n",
              "      border-color: transparent;\n",
              "      border-left-color: var(--fill-color);\n",
              "      border-top-color: var(--fill-color);\n",
              "      border-right-color: var(--fill-color);\n",
              "    }\n",
              "    40% {\n",
              "      border-color: transparent;\n",
              "      border-right-color: var(--fill-color);\n",
              "      border-top-color: var(--fill-color);\n",
              "    }\n",
              "    60% {\n",
              "      border-color: transparent;\n",
              "      border-right-color: var(--fill-color);\n",
              "    }\n",
              "    80% {\n",
              "      border-color: transparent;\n",
              "      border-right-color: var(--fill-color);\n",
              "      border-bottom-color: var(--fill-color);\n",
              "    }\n",
              "    90% {\n",
              "      border-color: transparent;\n",
              "      border-bottom-color: var(--fill-color);\n",
              "    }\n",
              "  }\n",
              "</style>\n",
              "\n",
              "  <script>\n",
              "    async function quickchart(key) {\n",
              "      const quickchartButtonEl =\n",
              "        document.querySelector('#' + key + ' button');\n",
              "      quickchartButtonEl.disabled = true;  // To prevent multiple clicks.\n",
              "      quickchartButtonEl.classList.add('colab-df-spinner');\n",
              "      try {\n",
              "        const charts = await google.colab.kernel.invokeFunction(\n",
              "            'suggestCharts', [key], {});\n",
              "      } catch (error) {\n",
              "        console.error('Error during call to suggestCharts:', error);\n",
              "      }\n",
              "      quickchartButtonEl.classList.remove('colab-df-spinner');\n",
              "      quickchartButtonEl.classList.add('colab-df-quickchart-complete');\n",
              "    }\n",
              "    (() => {\n",
              "      let quickchartButtonEl =\n",
              "        document.querySelector('#df-cbb4d4d0-be31-4657-aceb-73c656d13bd2 button');\n",
              "      quickchartButtonEl.style.display =\n",
              "        google.colab.kernel.accessAllowed ? 'block' : 'none';\n",
              "    })();\n",
              "  </script>\n",
              "</div>\n",
              "    </div>\n",
              "  </div>\n"
            ],
            "application/vnd.google.colaboratory.intrinsic+json": {
              "type": "dataframe",
              "repr_error": "'str' object has no attribute 'empty'"
            }
          },
          "metadata": {},
          "execution_count": 60
        }
      ]
    },
    {
      "cell_type": "code",
      "source": [
        "df_combined.isna().sum()"
      ],
      "metadata": {
        "colab": {
          "base_uri": "https://localhost:8080/"
        },
        "id": "RpBkpDiYIhlJ",
        "outputId": "0af7401a-db7e-4ad0-de9d-6e5fb00deafa"
      },
      "execution_count": null,
      "outputs": [
        {
          "output_type": "execute_result",
          "data": {
            "text/plain": [
              "HSN                                                   0\n",
              "Fahrzeughersteller                                    0\n",
              "TSN                                                   0\n",
              "Fahrzeugklasse                                        0\n",
              "Handelsname                                          32\n",
              "Kraftfahrstoffcode                                   72\n",
              "Leistung kW                                           0\n",
              "Emissionscode                                        46\n",
              "CO2 g/km 8.1                                      13528\n",
              "CO2 g/km 8.2                                      30829\n",
              "CO2 g/km 8.3                                      68237\n",
              "CO2 g/km 8.4                                      76545\n",
              "Verbrauch l, m3/100km 8.5                         72851\n",
              "Verbrauch l, m3/100km 8.6                         78946\n",
              "Verbrauch l, m3/100km 8.7                         79100\n",
              "Verbrauch l, m3/100km 8.8                         79140\n",
              "Elektrischer Energieverbrauch kombiniert Wh/km    79139\n",
              "dtype: int64"
            ]
          },
          "metadata": {},
          "execution_count": 61
        }
      ]
    },
    {
      "cell_type": "code",
      "source": [
        "df_combined.to_csv(f\"/content/df_combined.csv\", sep=\";\")"
      ],
      "metadata": {
        "id": "xRtKxzcDWvOW"
      },
      "execution_count": null,
      "outputs": []
    }
  ]
}